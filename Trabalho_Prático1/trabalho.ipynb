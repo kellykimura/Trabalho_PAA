{
 "cells": [
  {
   "cell_type": "markdown",
   "metadata": {},
   "source": [
    "## Bibliotecas"
   ]
  },
  {
   "cell_type": "code",
   "execution_count": 17,
   "metadata": {},
   "outputs": [],
   "source": [
    "from algoritmos import *\n",
    "from random import *\n",
    "import pandas as pd \n",
    "import time\n",
    "import matplotlib.pyplot as plt\n",
    "from IPython.display import display"
   ]
  },
  {
   "cell_type": "markdown",
   "metadata": {},
   "source": []
  },
  {
   "cell_type": "markdown",
   "metadata": {},
   "source": [
    "## Funções"
   ]
  },
  {
   "cell_type": "code",
   "execution_count": 18,
   "metadata": {},
   "outputs": [],
   "source": [
    "# Função para criar vetor ordenado de forma crescente, decrescente e aleatório\n",
    "def gerador (qntElementos: int) -> dict: #qntElem: int indica o tipo de entrada esperada e -> dict o tipo de saída\n",
    "\n",
    "    # Preenche a lista crescente com valores de 0 até qntElementos -1\n",
    "    crescente = [i for i in range(qntElementos)]\n",
    "    # Preenche a lista decrescente com valores qntElementos até 1\n",
    "    decrescente = [qntElementos - i for i in range(qntElementos)]\n",
    "    # Preenche a lista com valores aleatório de 0 até  10 * qntElementos\n",
    "    aleatorio = [randint(0,qntElementos) for _ in range(qntElementos)]\n",
    "\n",
    "    # Dicionário que relaciona chave a um valor associado a ela \n",
    "    return {'crescente': crescente, 'decrescente': decrescente, 'aleatorio': aleatorio}"
   ]
  },
  {
   "cell_type": "markdown",
   "metadata": {},
   "source": [
    "## Dicionários"
   ]
  },
  {
   "cell_type": "code",
   "execution_count": null,
   "metadata": {},
   "outputs": [],
   "source": [
    "# Dicionário para associar as funções aos seus respectivos nomes\n",
    "# Pega as funções da biblioteca algoritmos e associa a chaves \n",
    "nomeAlgoritmos = { \n",
    "    'bubbleSort': bubbleSort,\n",
    "    'bubbleSortMelhorado': bubbleSortMelhorado,\n",
    "    'quickSort': quickSort,\n",
    "    'quickSortMelhorado': quickSortMelhorado,\n",
    "    'insertionSort': insertionSort,\n",
    "    'shellSort': shellSort,\n",
    "    'selectionSort': selectionSort,\n",
    "    'heapSort': heapSort,\n",
    "    'mergeSort': mergeSort\n",
    "}\n",
    "\n",
    "entradas = {'crescente', 'decrescente', 'aleatorio'}\n",
    "\n",
    "# Quantidade de elementos que serão testados em cada algo. de ordenação\n",
    "casosTeste = [1000, 5000, 10000, 15000, 20000, 30000, 40000, 50000]\n",
    "# casosTeste = [10]"
   ]
  },
  {
   "cell_type": "markdown",
   "metadata": {},
   "source": [
    "## Armazenando os dados"
   ]
  },
  {
   "cell_type": "code",
   "execution_count": 20,
   "metadata": {},
   "outputs": [],
   "source": [
    "# organiza e relaciona os valores em dataframes\n",
    "df = pd.DataFrame ({\n",
    "    # colunas e valores associados a elas\n",
    "    'algoritmo': [], # qual tipo de algoritmo de ordenação\n",
    "    'tamEntrada': [], # o tamanho da entrada\n",
    "    'tipoEntrada': [], # qual tipo de arr foi ordenado (crescente, decrescente ou aleatório)\n",
    "    'tempoGasto': [] # o tempo gasto \n",
    "})"
   ]
  },
  {
   "cell_type": "markdown",
   "metadata": {},
   "source": [
    "## Algoritmos"
   ]
  },
  {
   "cell_type": "markdown",
   "metadata": {},
   "source": [
    "##### Bubble Sort"
   ]
  },
  {
   "cell_type": "code",
   "execution_count": 21,
   "metadata": {},
   "outputs": [
    {
     "name": "stdout",
     "output_type": "stream",
     "text": [
      "  crescente para 1000: deu bom\n",
      "  decrescente para 1000: deu bom\n",
      "  aleatorio para 1000: deu bom\n",
      "1000\n",
      "  crescente para 5000: deu bom\n",
      "  decrescente para 5000: deu bom\n",
      "  aleatorio para 5000: deu bom\n",
      "5000\n",
      "  crescente para 10000: deu bom\n",
      "  decrescente para 10000: deu bom\n",
      "  aleatorio para 10000: deu bom\n",
      "10000\n",
      "  crescente para 15000: deu bom\n",
      "  decrescente para 15000: deu bom\n",
      "  aleatorio para 15000: deu bom\n",
      "15000\n",
      "  crescente para 20000: deu bom\n",
      "  decrescente para 20000: deu bom\n",
      "  aleatorio para 20000: deu bom\n",
      "20000\n",
      "  crescente para 30000: deu bom\n",
      "  decrescente para 30000: deu bom\n",
      "  aleatorio para 30000: deu bom\n",
      "30000\n",
      "  crescente para 40000: deu bom\n",
      "  decrescente para 40000: deu bom\n",
      "  aleatorio para 40000: deu bom\n",
      "40000\n",
      "  crescente para 50000: deu bom\n",
      "  decrescente para 50000: deu bom\n"
     ]
    },
    {
     "ename": "KeyboardInterrupt",
     "evalue": "",
     "output_type": "error",
     "traceback": [
      "\u001b[1;31m---------------------------------------------------------------------------\u001b[0m",
      "\u001b[1;31mKeyboardInterrupt\u001b[0m                         Traceback (most recent call last)",
      "Cell \u001b[1;32mIn[21], line 11\u001b[0m\n\u001b[0;32m      7\u001b[0m \u001b[38;5;28;01mfor\u001b[39;00m tipoEntrada \u001b[38;5;129;01min\u001b[39;00m entradas:\n\u001b[0;32m      9\u001b[0m     inicio \u001b[38;5;241m=\u001b[39m time\u001b[38;5;241m.\u001b[39mtime()\n\u001b[1;32m---> 11\u001b[0m     array \u001b[38;5;241m=\u001b[39m \u001b[43mbubbleSort\u001b[49m\u001b[43m(\u001b[49m\u001b[43mentradas\u001b[49m\u001b[43m[\u001b[49m\u001b[43mtipoEntrada\u001b[49m\u001b[43m]\u001b[49m\u001b[43m)\u001b[49m\n\u001b[0;32m     13\u001b[0m     fim \u001b[38;5;241m=\u001b[39m time\u001b[38;5;241m.\u001b[39mtime()\n\u001b[0;32m     15\u001b[0m     tempoGasto \u001b[38;5;241m=\u001b[39m ((fim \u001b[38;5;241m-\u001b[39m inicio) \u001b[38;5;241m*\u001b[39m \u001b[38;5;241m1000\u001b[39m)\n",
      "File \u001b[1;32mc:\\Users\\kelly\\OneDrive\\Documentos\\fctunesp\\4semestre\\PAA\\Trabalho_PAA\\Trabalho_Prático1\\algoritmos.py:9\u001b[0m, in \u001b[0;36mbubbleSort\u001b[1;34m(vetor)\u001b[0m\n\u001b[0;32m      6\u001b[0m \u001b[38;5;28;01mfor\u001b[39;00m i \u001b[38;5;129;01min\u001b[39;00m \u001b[38;5;28mrange\u001b[39m(\u001b[38;5;28mlen\u001b[39m(vetor)):\n\u001b[0;32m      7\u001b[0m     \u001b[38;5;66;03m#for para andar pelas posições do vetor\u001b[39;00m\n\u001b[0;32m      8\u001b[0m     \u001b[38;5;28;01mfor\u001b[39;00m j \u001b[38;5;129;01min\u001b[39;00m \u001b[38;5;28mrange\u001b[39m(\u001b[38;5;241m0\u001b[39m, \u001b[38;5;28mlen\u001b[39m(vetor) \u001b[38;5;241m-\u001b[39m i \u001b[38;5;241m-\u001b[39m \u001b[38;5;241m1\u001b[39m):\n\u001b[1;32m----> 9\u001b[0m         \u001b[38;5;28;01mif\u001b[39;00m vetor[j] \u001b[38;5;241m>\u001b[39m vetor[j\u001b[38;5;241m+\u001b[39m\u001b[38;5;241m1\u001b[39m]:\n\u001b[0;32m     10\u001b[0m             \u001b[38;5;66;03m# trocando as posjções dos elementos\u001b[39;00m\n\u001b[0;32m     11\u001b[0m             vetor[j], vetor[j\u001b[38;5;241m+\u001b[39m\u001b[38;5;241m1\u001b[39m] \u001b[38;5;241m=\u001b[39m vetor[j\u001b[38;5;241m+\u001b[39m\u001b[38;5;241m1\u001b[39m], vetor[j]\n\u001b[0;32m     12\u001b[0m \u001b[38;5;28;01mreturn\u001b[39;00m(vetor)\n",
      "\u001b[1;31mKeyboardInterrupt\u001b[0m: "
     ]
    }
   ],
   "source": [
    "# para cada tamanho de entrada [1000, 5000, 10000, 15000, 20000]\n",
    "for tamEntrada in casosTeste:\n",
    "\n",
    "    entradas = gerador(tamEntrada)\n",
    "\n",
    "    # itera sobre as chaves do dicionário (crescente, decrescente e aleatorio)\n",
    "    for tipoEntrada in entradas:\n",
    "\n",
    "        inicio = time.time()\n",
    "\n",
    "        array = bubbleSort(entradas[tipoEntrada])\n",
    "\n",
    "        fim = time.time()\n",
    "\n",
    "        tempoGasto = ((fim - inicio) * 1000)\n",
    "\n",
    "        if array == sorted(entradas[tipoEntrada]):\n",
    "            df.loc[len(df)] = ['bubbleSort', tamEntrada, tipoEntrada, tempoGasto]\n",
    "            print(f\"  {tipoEntrada} para {tamEntrada}: deu bom\")\n",
    "        else:\n",
    "            print(array)\n",
    "            print(sorted(array))\n",
    "            raise Exception (\"Erro: vetor não ordenado\")\n",
    "    \n",
    "    print(tamEntrada)\n",
    "            \n",
    "df.to_csv('./dataFrame.csv')\n"
   ]
  },
  {
   "cell_type": "markdown",
   "metadata": {},
   "source": [
    "##### Bubble Sort Melhorado"
   ]
  },
  {
   "cell_type": "code",
   "execution_count": 6,
   "metadata": {},
   "outputs": [
    {
     "name": "stdout",
     "output_type": "stream",
     "text": [
      "  crescente para 1000: deu bom\n",
      "  decrescente para 1000: deu bom\n",
      "  aleatorio para 1000: deu bom\n",
      "1000\n",
      "  crescente para 5000: deu bom\n",
      "  decrescente para 5000: deu bom\n",
      "  aleatorio para 5000: deu bom\n",
      "5000\n",
      "  crescente para 10000: deu bom\n",
      "  decrescente para 10000: deu bom\n",
      "  aleatorio para 10000: deu bom\n",
      "10000\n",
      "  crescente para 15000: deu bom\n",
      "  decrescente para 15000: deu bom\n",
      "  aleatorio para 15000: deu bom\n",
      "15000\n",
      "  crescente para 20000: deu bom\n",
      "  decrescente para 20000: deu bom\n",
      "  aleatorio para 20000: deu bom\n",
      "20000\n",
      "  crescente para 50000: deu bom\n",
      "  decrescente para 50000: deu bom\n",
      "  aleatorio para 50000: deu bom\n",
      "50000\n"
     ]
    }
   ],
   "source": [
    "# para cada tamanho de entrada [1000, 5000, 10000, 15000, 20000]\n",
    "for tamEntrada in casosTeste:\n",
    "    \n",
    "    entradas = gerador(tamEntrada)\n",
    "\n",
    "    # itera sobre as chaves do dicionário (crescente, decrescente e aleatorio)\n",
    "    for tipoEntrada in entradas:\n",
    "\n",
    "        inicio = time.time()\n",
    "\n",
    "        array = bubbleSortMelhorado(entradas[tipoEntrada])\n",
    "\n",
    "        fim = time.time()\n",
    "\n",
    "        tempoGasto = ((fim - inicio) * 1000)\n",
    "\n",
    "        if array == sorted(entradas[tipoEntrada]):\n",
    "            df.loc[len(df)] = ['bubbleSortMelhorado', tamEntrada, tipoEntrada, tempoGasto]\n",
    "            print(f\"  {tipoEntrada} para {tamEntrada}: deu bom\")\n",
    "        else:\n",
    "            print(array)\n",
    "            print(sorted(array))\n",
    "            raise Exception (\"Erro: vetor não ordenado\")\n",
    "    \n",
    "    print(tamEntrada)\n",
    "\n",
    "df.to_csv('./dataFrame.csv')\n"
   ]
  },
  {
   "cell_type": "markdown",
   "metadata": {},
   "source": [
    "##### Quick Sort"
   ]
  },
  {
   "cell_type": "code",
   "execution_count": 7,
   "metadata": {},
   "outputs": [
    {
     "name": "stdout",
     "output_type": "stream",
     "text": [
      "  crescente para 1000: deu bom\n",
      "  decrescente para 1000: deu bom\n",
      "  aleatorio para 1000: deu bom\n",
      "  crescente para 5000: deu bom\n",
      "  decrescente para 5000: deu bom\n",
      "  aleatorio para 5000: deu bom\n",
      "  crescente para 10000: deu bom\n",
      "  decrescente para 10000: deu bom\n",
      "  aleatorio para 10000: deu bom\n",
      "  crescente para 15000: deu bom\n",
      "  decrescente para 15000: deu bom\n",
      "  aleatorio para 15000: deu bom\n",
      "  crescente para 20000: deu bom\n",
      "  decrescente para 20000: deu bom\n",
      "  aleatorio para 20000: deu bom\n",
      "  crescente para 50000: deu bom\n",
      "  decrescente para 50000: deu bom\n",
      "  aleatorio para 50000: deu bom\n"
     ]
    }
   ],
   "source": [
    "# para cada tamanho de entrada [1000, 5000, 10000, 15000, 20000, 50000, 100000]\n",
    "for tamEntrada in casosTeste:\n",
    "    \n",
    "    entradas = gerador(tamEntrada)\n",
    "\n",
    "    # itera sobre as chaves do dicionário (crescente, decrescente e aleatorio)\n",
    "    for tipoEntrada in entradas:\n",
    "\n",
    "        inicio = time.time()\n",
    "\n",
    "        array = quickSort(entradas[tipoEntrada])\n",
    "\n",
    "        fim = time.time()\n",
    "\n",
    "        tempoGasto = ((fim - inicio) * 1000)\n",
    "\n",
    "        if array == sorted(entradas[tipoEntrada]):\n",
    "            df.loc[len(df)] = ['quickSort', tamEntrada, tipoEntrada, tempoGasto]\n",
    "            print(f\"  {tipoEntrada} para {tamEntrada}: deu bom\")\n",
    "        else:\n",
    "            print(array)\n",
    "            print(sorted(array))\n",
    "            raise Exception (\"Erro: vetor não ordenado\")\n",
    "\n",
    "df.to_csv('./dataFrame.csv')\n"
   ]
  },
  {
   "cell_type": "markdown",
   "metadata": {},
   "source": [
    "##### Quick Sort Melhorado"
   ]
  },
  {
   "cell_type": "code",
   "execution_count": 8,
   "metadata": {},
   "outputs": [
    {
     "name": "stdout",
     "output_type": "stream",
     "text": [
      "  crescente para 1000: deu bom\n",
      "  decrescente para 1000: deu bom\n",
      "  aleatorio para 1000: deu bom\n",
      "1000\n",
      "  crescente para 5000: deu bom\n",
      "  decrescente para 5000: deu bom\n",
      "  aleatorio para 5000: deu bom\n",
      "5000\n",
      "  crescente para 10000: deu bom\n",
      "  decrescente para 10000: deu bom\n",
      "  aleatorio para 10000: deu bom\n",
      "10000\n",
      "  crescente para 15000: deu bom\n",
      "  decrescente para 15000: deu bom\n",
      "  aleatorio para 15000: deu bom\n",
      "15000\n",
      "  crescente para 20000: deu bom\n",
      "  decrescente para 20000: deu bom\n",
      "  aleatorio para 20000: deu bom\n",
      "20000\n",
      "  crescente para 50000: deu bom\n",
      "  decrescente para 50000: deu bom\n",
      "  aleatorio para 50000: deu bom\n",
      "50000\n"
     ]
    }
   ],
   "source": [
    "# para cada tamanho de entrada [1000, 5000, 10000, 15000, 20000]\n",
    "for tamEntrada in casosTeste:\n",
    "    \n",
    "    entradas = gerador(tamEntrada)\n",
    "\n",
    "    # itera sobre as chaves do dicionário (crescente, decrescente e aleatorio)\n",
    "    for tipoEntrada in entradas:\n",
    "\n",
    "        inicio = time.time()\n",
    "\n",
    "        array = quickSortMelhorado(entradas[tipoEntrada])\n",
    "\n",
    "        fim = time.time()\n",
    "\n",
    "        tempoGasto = ((fim - inicio) * 1000)\n",
    "\n",
    "        if array == sorted(entradas[tipoEntrada]):\n",
    "            df.loc[len(df)] = ['quickSortMelhorado', tamEntrada, tipoEntrada, tempoGasto]\n",
    "            print(f\"  {tipoEntrada} para {tamEntrada}: deu bom\")\n",
    "        else:\n",
    "            print(array)\n",
    "            print(sorted(array))\n",
    "            raise Exception (\"Erro: vetor não ordenado\")\n",
    "    \n",
    "    print(tamEntrada)\n",
    "\n",
    "df.to_csv('./dataFrame.csv')\n"
   ]
  },
  {
   "cell_type": "markdown",
   "metadata": {},
   "source": [
    "##### Insertion Sort"
   ]
  },
  {
   "cell_type": "code",
   "execution_count": 9,
   "metadata": {},
   "outputs": [
    {
     "name": "stdout",
     "output_type": "stream",
     "text": [
      "  crescente para 1000: deu bom\n",
      "  decrescente para 1000: deu bom\n",
      "  aleatorio para 1000: deu bom\n",
      "1000\n",
      "  crescente para 5000: deu bom\n",
      "  decrescente para 5000: deu bom\n",
      "  aleatorio para 5000: deu bom\n",
      "5000\n",
      "  crescente para 10000: deu bom\n",
      "  decrescente para 10000: deu bom\n",
      "  aleatorio para 10000: deu bom\n",
      "10000\n",
      "  crescente para 15000: deu bom\n",
      "  decrescente para 15000: deu bom\n",
      "  aleatorio para 15000: deu bom\n",
      "15000\n",
      "  crescente para 20000: deu bom\n",
      "  decrescente para 20000: deu bom\n",
      "  aleatorio para 20000: deu bom\n",
      "20000\n",
      "  crescente para 50000: deu bom\n",
      "  decrescente para 50000: deu bom\n",
      "  aleatorio para 50000: deu bom\n",
      "50000\n"
     ]
    }
   ],
   "source": [
    "# para cada tamanho de entrada [1000, 5000, 10000, 15000, 20000]\n",
    "for tamEntrada in casosTeste:\n",
    "    \n",
    "    entradas = gerador(tamEntrada)\n",
    "\n",
    "    # itera sobre as chaves do dicionário (crescente, decrescente e aleatorio)\n",
    "    for tipoEntrada in entradas:\n",
    "\n",
    "        inicio = time.time()\n",
    "\n",
    "        array = insertionSort(entradas[tipoEntrada])\n",
    "\n",
    "        fim = time.time()\n",
    "\n",
    "        tempoGasto = ((fim - inicio) * 1000)\n",
    "\n",
    "        if array == sorted(entradas[tipoEntrada]):\n",
    "            df.loc[len(df)] = ['insertionSort', tamEntrada, tipoEntrada, tempoGasto]\n",
    "            print(f\"  {tipoEntrada} para {tamEntrada}: deu bom\")\n",
    "        else:\n",
    "            print(array)\n",
    "            print(sorted(array))\n",
    "            raise Exception (\"Erro: vetor não ordenado\")\n",
    "    \n",
    "    print(tamEntrada)\n",
    "\n",
    "df.to_csv('./dataFrame.csv')\n"
   ]
  },
  {
   "cell_type": "markdown",
   "metadata": {},
   "source": [
    "##### Shell Sort"
   ]
  },
  {
   "cell_type": "code",
   "execution_count": 10,
   "metadata": {},
   "outputs": [
    {
     "name": "stdout",
     "output_type": "stream",
     "text": [
      "  crescente para 1000: deu bom\n",
      "  decrescente para 1000: deu bom\n",
      "  aleatorio para 1000: deu bom\n",
      "1000\n",
      "  crescente para 5000: deu bom\n",
      "  decrescente para 5000: deu bom\n",
      "  aleatorio para 5000: deu bom\n",
      "5000\n",
      "  crescente para 10000: deu bom\n",
      "  decrescente para 10000: deu bom\n",
      "  aleatorio para 10000: deu bom\n",
      "10000\n",
      "  crescente para 15000: deu bom\n",
      "  decrescente para 15000: deu bom\n",
      "  aleatorio para 15000: deu bom\n",
      "15000\n",
      "  crescente para 20000: deu bom\n",
      "  decrescente para 20000: deu bom\n",
      "  aleatorio para 20000: deu bom\n",
      "20000\n",
      "  crescente para 50000: deu bom\n",
      "  decrescente para 50000: deu bom\n",
      "  aleatorio para 50000: deu bom\n",
      "50000\n"
     ]
    }
   ],
   "source": [
    "# para cada tamanho de entrada [1000, 5000, 10000, 15000, 20000]\n",
    "for tamEntrada in casosTeste:\n",
    "    \n",
    "    entradas = gerador(tamEntrada)\n",
    "\n",
    "    # itera sobre as chaves do dicionário (crescente, decrescente e aleatorio)\n",
    "    for tipoEntrada in entradas:\n",
    "\n",
    "        inicio = time.time()\n",
    "\n",
    "        array = shellSort(entradas[tipoEntrada])\n",
    "\n",
    "        fim = time.time()\n",
    "\n",
    "        tempoGasto = ((fim - inicio) * 1000)\n",
    "\n",
    "        if array == sorted(entradas[tipoEntrada]):\n",
    "            df.loc[len(df)] = ['shellSort', tamEntrada, tipoEntrada, tempoGasto]\n",
    "            print(f\"  {tipoEntrada} para {tamEntrada}: deu bom\")\n",
    "        else:\n",
    "            print(array)\n",
    "            print(sorted(array))\n",
    "            raise Exception (\"Erro: vetor não ordenado\")\n",
    "    \n",
    "    print(tamEntrada)\n",
    "\n",
    "df.to_csv('./dataFrame.csv')\n"
   ]
  },
  {
   "cell_type": "markdown",
   "metadata": {},
   "source": [
    "##### Selection Sort"
   ]
  },
  {
   "cell_type": "code",
   "execution_count": 11,
   "metadata": {},
   "outputs": [
    {
     "name": "stdout",
     "output_type": "stream",
     "text": [
      "  crescente para 1000: deu bom\n",
      "  decrescente para 1000: deu bom\n",
      "  aleatorio para 1000: deu bom\n",
      "1000\n",
      "  crescente para 5000: deu bom\n",
      "  decrescente para 5000: deu bom\n",
      "  aleatorio para 5000: deu bom\n",
      "5000\n",
      "  crescente para 10000: deu bom\n",
      "  decrescente para 10000: deu bom\n",
      "  aleatorio para 10000: deu bom\n",
      "10000\n",
      "  crescente para 15000: deu bom\n",
      "  decrescente para 15000: deu bom\n",
      "  aleatorio para 15000: deu bom\n",
      "15000\n",
      "  crescente para 20000: deu bom\n",
      "  decrescente para 20000: deu bom\n",
      "  aleatorio para 20000: deu bom\n",
      "20000\n",
      "  crescente para 50000: deu bom\n",
      "  decrescente para 50000: deu bom\n",
      "  aleatorio para 50000: deu bom\n",
      "50000\n"
     ]
    }
   ],
   "source": [
    "# para cada tamanho de entrada [1000, 5000, 10000, 15000, 20000]\n",
    "for tamEntrada in casosTeste:\n",
    "    \n",
    "    entradas = gerador(tamEntrada)\n",
    "\n",
    "    # itera sobre as chaves do dicionário (crescente, decrescente e aleatorio)\n",
    "    for tipoEntrada in entradas:\n",
    "\n",
    "        inicio = time.time()\n",
    "\n",
    "        array = selectionSort(entradas[tipoEntrada])\n",
    "\n",
    "        fim = time.time()\n",
    "\n",
    "        tempoGasto = ((fim - inicio) * 1000)\n",
    "\n",
    "        if array == sorted(entradas[tipoEntrada]):\n",
    "            df.loc[len(df)] = ['selectionSort', tamEntrada, tipoEntrada, tempoGasto]\n",
    "            print(f\"  {tipoEntrada} para {tamEntrada}: deu bom\")\n",
    "        else:\n",
    "            print(array)\n",
    "            print(sorted(array))\n",
    "            raise Exception (\"Erro: vetor não ordenado\")\n",
    "    \n",
    "    print(tamEntrada)\n",
    "\n",
    "df.to_csv('./dataFrame.csv')\n"
   ]
  },
  {
   "cell_type": "markdown",
   "metadata": {},
   "source": [
    "##### Heap Sort"
   ]
  },
  {
   "cell_type": "code",
   "execution_count": 12,
   "metadata": {},
   "outputs": [
    {
     "name": "stdout",
     "output_type": "stream",
     "text": [
      "  crescente para 1000: deu bom\n",
      "  decrescente para 1000: deu bom\n",
      "  aleatorio para 1000: deu bom\n",
      "1000\n",
      "  crescente para 5000: deu bom\n",
      "  decrescente para 5000: deu bom\n",
      "  aleatorio para 5000: deu bom\n",
      "5000\n",
      "  crescente para 10000: deu bom\n",
      "  decrescente para 10000: deu bom\n",
      "  aleatorio para 10000: deu bom\n",
      "10000\n",
      "  crescente para 15000: deu bom\n",
      "  decrescente para 15000: deu bom\n",
      "  aleatorio para 15000: deu bom\n",
      "15000\n",
      "  crescente para 20000: deu bom\n",
      "  decrescente para 20000: deu bom\n",
      "  aleatorio para 20000: deu bom\n",
      "20000\n",
      "  crescente para 50000: deu bom\n",
      "  decrescente para 50000: deu bom\n",
      "  aleatorio para 50000: deu bom\n",
      "50000\n"
     ]
    }
   ],
   "source": [
    "# para cada tamanho de entrada [1000, 5000, 10000, 15000, 20000]\n",
    "for tamEntrada in casosTeste:\n",
    "    \n",
    "    entradas = gerador(tamEntrada)\n",
    "\n",
    "    # itera sobre as chaves do dicionário (crescente, decrescente e aleatorio)\n",
    "    for tipoEntrada in entradas:\n",
    "\n",
    "        inicio = time.time()\n",
    "\n",
    "        array = heapSort(entradas[tipoEntrada])\n",
    "\n",
    "        fim = time.time()\n",
    "\n",
    "        tempoGasto = ((fim - inicio) * 1000)\n",
    "\n",
    "        if array == sorted(entradas[tipoEntrada]):\n",
    "            df.loc[len(df)] = ['heapSort', tamEntrada, tipoEntrada, tempoGasto]\n",
    "            print(f\"  {tipoEntrada} para {tamEntrada}: deu bom\")\n",
    "        else:\n",
    "            print(array)\n",
    "            print(sorted(array))\n",
    "            raise Exception (\"Erro: vetor não ordenado\")\n",
    "    \n",
    "    print(tamEntrada)\n",
    "\n",
    "df.to_csv('./dataFrame.csv')\n"
   ]
  },
  {
   "cell_type": "markdown",
   "metadata": {},
   "source": [
    "##### Merge Sort"
   ]
  },
  {
   "cell_type": "code",
   "execution_count": 13,
   "metadata": {},
   "outputs": [
    {
     "name": "stdout",
     "output_type": "stream",
     "text": [
      "  crescente para 1000: deu bom\n",
      "  decrescente para 1000: deu bom\n",
      "  aleatorio para 1000: deu bom\n",
      "1000\n",
      "  crescente para 5000: deu bom\n",
      "  decrescente para 5000: deu bom\n",
      "  aleatorio para 5000: deu bom\n",
      "5000\n",
      "  crescente para 10000: deu bom\n",
      "  decrescente para 10000: deu bom\n",
      "  aleatorio para 10000: deu bom\n",
      "10000\n",
      "  crescente para 15000: deu bom\n",
      "  decrescente para 15000: deu bom\n",
      "  aleatorio para 15000: deu bom\n",
      "15000\n",
      "  crescente para 20000: deu bom\n",
      "  decrescente para 20000: deu bom\n",
      "  aleatorio para 20000: deu bom\n",
      "20000\n",
      "  crescente para 50000: deu bom\n",
      "  decrescente para 50000: deu bom\n",
      "  aleatorio para 50000: deu bom\n",
      "50000\n"
     ]
    }
   ],
   "source": [
    "# para cada tamanho de entrada [1000, 5000, 10000, 15000, 20000]\n",
    "for tamEntrada in casosTeste:\n",
    "    \n",
    "    entradas = gerador(tamEntrada)\n",
    "\n",
    "    # itera sobre as chaves do dicionário (crescente, decrescente e aleatorio)\n",
    "    for tipoEntrada in entradas:\n",
    "\n",
    "        inicio = time.time()\n",
    "\n",
    "        array = mergeSort(entradas[tipoEntrada], 0, len(entradas[tipoEntrada]))\n",
    "\n",
    "        fim = time.time()\n",
    "\n",
    "        tempoGasto = ((fim - inicio) * 1000)\n",
    "\n",
    "        if array == sorted(entradas[tipoEntrada]):\n",
    "            df.loc[len(df)] = ['mergeSort', tamEntrada, tipoEntrada, tempoGasto]\n",
    "            print(f\"  {tipoEntrada} para {tamEntrada}: deu bom\")\n",
    "        else:\n",
    "            print(array)\n",
    "            print(sorted(array))\n",
    "            raise Exception (\"Erro: vetor não ordenado\")\n",
    "    \n",
    "    print(tamEntrada)\n",
    "\n",
    "df.to_csv('./dataFrame.csv')\n"
   ]
  },
  {
   "cell_type": "code",
   "execution_count": 16,
   "metadata": {},
   "outputs": [],
   "source": [
    "# Carrega o CSV \n",
    "df = pd.read_csv('./dataFrame.csv')\n",
    "\n",
    "# Itera sobre cada algoritmo listado no dicionário nomeAlgoritmos\n",
    "for algoritmo in nomeAlgoritmos:\n",
    "\n",
    "    # Filtra os dados para o algoritmo atual\n",
    "    dados_algoritmo = df[df['algoritmo'] == algoritmo]\n",
    "\n",
    "    # Filtra para cada tipo de entrada\n",
    "    crescentes = dados_algoritmo[dados_algoritmo['tipoEntrada'] == 'crescente']\n",
    "    decrescentes = dados_algoritmo[dados_algoritmo['tipoEntrada'] == 'decrescente']\n",
    "    aleatorios = dados_algoritmo[dados_algoritmo['tipoEntrada'] == 'aleatorio']\n",
    "\n",
    "    # Configura a figura e o tamanho\n",
    "    plt.figure(figsize=(10, 6))\n",
    "\n",
    "    # Plota o tempo de execução para cada tipo de entrada em função do tamanho\n",
    "    plt.plot(crescentes['tamEntrada'], crescentes['tempoGasto'], label='Crescente', marker='o')\n",
    "    plt.plot(decrescentes['tamEntrada'], decrescentes['tempoGasto'], label='Decrescente', marker='o')\n",
    "    plt.plot(aleatorios['tamEntrada'], aleatorios['tempoGasto'], label='Aleatório', marker='o')\n",
    "\n",
    "    # Adiciona título e rótulos aos eixos\n",
    "    plt.title(f'Comparação de Tempos de Execução - Algoritmo: {algoritmo}')\n",
    "    plt.xlabel('Tamanho da Entrada')\n",
    "    plt.ylabel('Tempo de Execução (ms)')\n",
    "    plt.legend()\n",
    "    plt.grid(True)\n",
    "\n",
    "    # Salva o gráfico como imagem\n",
    "    plt.savefig(f'tempos_execucao_{algoritmo}.png', dpi=300, bbox_inches='tight')\n",
    "    plt.close()  # Fecha o gráfico para liberar memória\n"
   ]
  }
 ],
 "metadata": {
  "kernelspec": {
   "display_name": "Python 3",
   "language": "python",
   "name": "python3"
  },
  "language_info": {
   "codemirror_mode": {
    "name": "ipython",
    "version": 3
   },
   "file_extension": ".py",
   "mimetype": "text/x-python",
   "name": "python",
   "nbconvert_exporter": "python",
   "pygments_lexer": "ipython3",
   "version": "3.12.6"
  }
 },
 "nbformat": 4,
 "nbformat_minor": 2
}
