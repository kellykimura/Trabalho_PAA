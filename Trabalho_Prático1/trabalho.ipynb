{
 "cells": [
  {
   "cell_type": "markdown",
   "metadata": {},
   "source": [
    "## Bibliotecas"
   ]
  },
  {
   "cell_type": "code",
   "execution_count": null,
   "metadata": {},
   "outputs": [],
   "source": [
    "from algoritmos import *\n",
    "from random import *"
   ]
  },
  {
   "cell_type": "markdown",
   "metadata": {},
   "source": []
  },
  {
   "cell_type": "markdown",
   "metadata": {},
   "source": [
    "## Funções"
   ]
  },
  {
   "cell_type": "code",
   "execution_count": null,
   "metadata": {},
   "outputs": [],
   "source": [
    "# Função para criar vetor ordenado de forma crescente, decrescente e aleatório\n",
    "def gerador (qntElementos):\n",
    "    crescente = [i for i in range(qntElementos)]\n",
    "    decrescente = [qntElementos-1 for i in range(qntElementos)]\n",
    "    aleatorio = [randint(0, qntElementos) for i in range(qntElementos)]\n",
    "    # Dicionário\n",
    "    return {'crescente': crescente, 'decrescente': decrescente, 'aleatorio': aleatorio}"
   ]
  },
  {
   "cell_type": "code",
   "execution_count": null,
   "metadata": {},
   "outputs": [],
   "source": [
    "# Dicionário para associar as funções aos seus respectivos nomes\n"
   ]
  }
 ],
 "metadata": {
  "kernelspec": {
   "display_name": "Python 3",
   "language": "python",
   "name": "python3"
  },
  "language_info": {
   "name": "python",
   "version": "3.9.6"
  }
 },
 "nbformat": 4,
 "nbformat_minor": 2
}
