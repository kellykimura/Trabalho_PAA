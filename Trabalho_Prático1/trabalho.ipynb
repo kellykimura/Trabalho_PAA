{
 "cells": [
  {
   "cell_type": "markdown",
   "metadata": {},
   "source": [
    "## Bibliotecas"
   ]
  },
  {
   "cell_type": "code",
   "execution_count": null,
   "metadata": {},
   "outputs": [],
   "source": [
    "from algoritmos import *\n",
    "from random import *"
   ]
  },
  {
   "cell_type": "markdown",
   "metadata": {},
   "source": []
  },
  {
   "cell_type": "markdown",
   "metadata": {},
   "source": [
    "## Funções"
   ]
  },
  {
   "cell_type": "code",
   "execution_count": null,
   "metadata": {},
   "outputs": [],
   "source": [
    "# Função para criar vetor ordenado de forma crescente, decrescente e aleatório\n",
    "def gerador (qntElementos: int) -> dict: #qntElem: int indica o tipo de entrada esperada e -> dict o tipo de saída\n",
    "\n",
    "    # Inicializa as listas vazias com tamanho = qntElementos\n",
    "    crescente = [0] * qntElementos #cria uma lista  com o array [0] multiplicado n vezes\n",
    "    decrescente = [0] * qntElementos\n",
    "    aleatorio = [0] * qntElementos\n",
    "\n",
    "    # Preenche a lista crescente com valores de 0 até qntElementos -1\n",
    "    for i in range(qntElementos):\n",
    "        crescente[i] = i\n",
    "    # Preenche a lista decrescente com valores qntElementos até 1\n",
    "    for i in range(qntElementos):\n",
    "        decrescente[i] = qntElementos - 1\n",
    "    # Preenche a lista com valores aleatório de 0 até  10 * qntElementos\n",
    "    for i in range(qntElementos):\n",
    "        aleatorio[i] = randint(0, 10 * qntElementos)\n",
    "\n",
    "    # Dicionário que relaciona chave a um valor associado a ela \n",
    "    return {'crescente': crescente, 'decrescente': decrescente, 'aleatorio': aleatorio}"
   ]
  },
  {
   "cell_type": "code",
   "execution_count": null,
   "metadata": {},
   "outputs": [],
   "source": [
    "# Dicionário para associar as funções aos seus respectivos nomes\n",
    "# Pega as funções da biblioteca algoritmos e associa a chaves \n",
    "nomeAlgoritmos = { \n",
    "    'bubbleSort': bubbleSort,\n",
    "    'bubbleSortMelhorado': bubbleSortMelhorado,\n",
    "    'quickSort': quickSort,\n",
    "    'quickSortMelhorado': quickSortMelhorado,\n",
    "    'insertionSort': insertionSort,\n",
    "    'shellSort': shellSort,\n",
    "    'selectionSort': selectionSort,\n",
    "    'heapSort': heapSort,\n",
    "    'mergeSort': mergeSort\n",
    "}\n",
    "\n",
    "# talvez isso seja inútil, mas é chamado set e impede que os valores sejam duplicados, tipo não pode ter mais de um elemento 'crescente' no conjunto\n",
    "entradas = {'crescente', 'decrescente', 'aleatorio'}\n",
    "\n",
    "# Quantidade de elementos que serão testados em cada algo. de ordenação\n",
    "casosTeste = [1000, 2000, 3000, 4000, 5000, 10000, 20000, 30000, 40000, 50000]\n"
   ]
  }
 ],
 "metadata": {
  "kernelspec": {
   "display_name": "Python 3",
   "language": "python",
   "name": "python3"
  },
  "language_info": {
   "name": "python",
   "version": "3.9.6"
  }
 },
 "nbformat": 4,
 "nbformat_minor": 2
}
